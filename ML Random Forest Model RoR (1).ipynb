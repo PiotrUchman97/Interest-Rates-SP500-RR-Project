{
 "cells": [
  {
   "cell_type": "code",
   "execution_count": 1,
   "id": "ee848a06",
   "metadata": {},
   "outputs": [],
   "source": [
    "# Import necessary libraries\n",
    "import pandas as pd\n",
    "from sklearn.model_selection import train_test_split\n",
    "from sklearn.ensemble import RandomForestRegressor\n",
    "from sklearn.metrics import mean_squared_error, r2_score\n",
    "import matplotlib.pyplot as plt"
   ]
  },
  {
   "cell_type": "code",
   "execution_count": 2,
   "id": "63d86cb5",
   "metadata": {},
   "outputs": [],
   "source": [
    "# Load the dataset\n",
    "df = pd.read_csv('RR_Project_data_30Y.csv')"
   ]
  },
  {
   "cell_type": "code",
   "execution_count": 3,
   "id": "3c355a95",
   "metadata": {},
   "outputs": [
    {
     "name": "stdout",
     "output_type": "stream",
     "text": [
      "         Date  SP500  SP500 RoR  Consumer Price Index  \\\n",
      "0      1/1/70  90.31  -0.008781                  37.9   \n",
      "1      2/1/70  87.16  -0.034880                  38.1   \n",
      "2  01.03.1970  88.65   0.017095                  38.3   \n",
      "3  01.04.1970  85.95  -0.030457                  38.5   \n",
      "4  01.05.1970  76.06  -0.115067                  38.6   \n",
      "\n",
      "   Industrial Production: Total Index  Unemployment Rate  \\\n",
      "0                                3201                3.9   \n",
      "1                                3453                4.2   \n",
      "2                                3635                4.4   \n",
      "3                                3797                4.6   \n",
      "4                                3919                4.8   \n",
      "\n",
      "   Unemployment Level (thousands of Persons)  Employment Level  \\\n",
      "0                                       3201             78780   \n",
      "1                                       3453             78698   \n",
      "2                                       3635             78863   \n",
      "3                                       3797             78930   \n",
      "4                                       3919             78564   \n",
      "\n",
      "   All Employees, Total Nonfarm  Labor Force Participation Rate  ...  \\\n",
      "0                       2.53307                            60.4  ...   \n",
      "1                       2.35767                            60.4  ...   \n",
      "2                       2.28008                            60.6  ...   \n",
      "3                       1.87109                            60.6  ...   \n",
      "4                       1.19229                            60.3  ...   \n",
      "\n",
      "   Personal Consumption Expenditures  Real Disposable Personal Income  \\\n",
      "0                              628.7                           3778.6   \n",
      "1                              634.0                           3790.5   \n",
      "2                              632.3                           3805.0   \n",
      "3                              636.0                           3846.0   \n",
      "4                              642.4                           3830.3   \n",
      "\n",
      "   Personal Saving Demand Deposits  \\\n",
      "0             86.3           159.3   \n",
      "1             86.1           158.0   \n",
      "2             92.4           158.5   \n",
      "3            100.3           159.3   \n",
      "4             93.2           159.4   \n",
      "\n",
      "   Spot Crude Oil Price: West Texas Intermediate (WTI)  \\\n",
      "0                                               3.35     \n",
      "1                                               3.35     \n",
      "2                                               3.35     \n",
      "3                                               3.35     \n",
      "4                                               3.35     \n",
      "\n",
      "   Motor Vehicle Retail Sales: Domestic Autos  Unnamed: 30  Unnamed: 31  \\\n",
      "0                                       539.2          NaN          NaN   \n",
      "1                                       598.1          NaN          NaN   \n",
      "2                                       646.0          NaN          NaN   \n",
      "3                                       691.3          NaN          NaN   \n",
      "4                                       698.6          NaN          NaN   \n",
      "\n",
      "   Unnamed: 32  Unnamed: 33  \n",
      "0          NaN          NaN  \n",
      "1          NaN          NaN  \n",
      "2          NaN          NaN  \n",
      "3          NaN          NaN  \n",
      "4          NaN          NaN  \n",
      "\n",
      "[5 rows x 34 columns]\n"
     ]
    }
   ],
   "source": [
    "# Display the first few rows of the dataframe\n",
    "print(df.head())"
   ]
  },
  {
   "cell_type": "code",
   "execution_count": 4,
   "id": "7cba2a0a",
   "metadata": {},
   "outputs": [],
   "source": [
    "# Feature selection\n",
    "features = [  'Consumer Price Index', \n",
    "    'Industrial Production: Total Index', \n",
    "    'Unemployment Rate', \n",
    "    'Employment Level', \n",
    "    'All Employees, Total Nonfarm', \n",
    "    'Labor Force Participation Rate', \n",
    "    'Personal Consumption Expenditures', \n",
    "    'Real Disposable Personal Income', \n",
    "    'Spot Crude Oil Price: West Texas Intermediate (WTI)', \n",
    "    'Motor Vehicle Retail Sales: Domestic Autos']\n",
    "X = df[features]\n",
    "y = df['SP500 RoR']"
   ]
  },
  {
   "cell_type": "code",
   "execution_count": 5,
   "id": "70e1d732",
   "metadata": {},
   "outputs": [],
   "source": [
    "# Split the dataset into training and testing sets\n",
    "X_train, X_test, y_train, y_test = train_test_split(X, y, test_size=0.2, random_state=42)"
   ]
  },
  {
   "cell_type": "code",
   "execution_count": 6,
   "id": "2478c1b5",
   "metadata": {},
   "outputs": [],
   "source": [
    "# Initialize the Random Forest regressor\n",
    "model = RandomForestRegressor(n_estimators=100, random_state=42)"
   ]
  },
  {
   "cell_type": "code",
   "execution_count": 7,
   "id": "747b897f",
   "metadata": {},
   "outputs": [
    {
     "data": {
      "text/plain": [
       "RandomForestRegressor(random_state=42)"
      ]
     },
     "execution_count": 7,
     "metadata": {},
     "output_type": "execute_result"
    }
   ],
   "source": [
    "# Train the model\n",
    "model.fit(X_train, y_train)"
   ]
  },
  {
   "cell_type": "code",
   "execution_count": 8,
   "id": "ae33fe78",
   "metadata": {},
   "outputs": [],
   "source": [
    "# Make predictions on the test set\n",
    "y_pred = model.predict(X_test)"
   ]
  },
  {
   "cell_type": "code",
   "execution_count": 9,
   "id": "eea7c3c3",
   "metadata": {},
   "outputs": [],
   "source": [
    "# Evaluate the model\n",
    "mse = mean_squared_error(y_test, y_pred)\n",
    "r2 = r2_score(y_test, y_pred)"
   ]
  },
  {
   "cell_type": "code",
   "execution_count": 10,
   "id": "a4978e35",
   "metadata": {},
   "outputs": [
    {
     "name": "stdout",
     "output_type": "stream",
     "text": [
      "Mean Squared Error: 0.0013376662090288593\n",
      "R^2 Score: -0.28822512934290434\n"
     ]
    }
   ],
   "source": [
    "print(f\"Mean Squared Error: {mse}\")\n",
    "print(f\"R^2 Score: {r2}\")"
   ]
  },
  {
   "cell_type": "code",
   "execution_count": 11,
   "id": "27b6103e",
   "metadata": {},
   "outputs": [
    {
     "data": {
      "image/png": "[encoded data removed]",
      "text/plain": [
       "<Figure size 1000x600 with 1 Axes>"
      ]
     },
     "metadata": {},
     "output_type": "display_data"
    }
   ],
   "source": [
    "# Plotting actual vs predicted values\n",
    "plt.figure(figsize=(10, 6))\n",
    "plt.scatter(y_test, y_pred, alpha=0.5)\n",
    "plt.xlabel(\"Actual S&P 500 Prices\")\n",
    "plt.ylabel(\"Predicted S&P 500 Prices\")\n",
    "plt.title(\"Actual vs Predicted S&P 500 Prices\")\n",
    "plt.show()"
   ]
  },
  {
   "cell_type": "code",
   "execution_count": 14,
   "id": "b3e780b2",
   "metadata": {},
   "outputs": [],
   "source": [
    "# Evaluate the model\n",
    "rf_r2 = r2_score(y_test, y_pred)\n",
    "rf_mse = mean_squared_error(y_test, y_pred)"
   ]
  },
  {
   "cell_type": "code",
   "execution_count": 15,
   "id": "e284968c",
   "metadata": {},
   "outputs": [
    {
     "name": "stdout",
     "output_type": "stream",
     "text": [
      "       Name of characteristics          Characteristics\n",
      "0                   Model name      ML Regression model\n",
      "1                   Model type  Random Forest Regressor\n",
      "2          Train - test split*                     20 %\n",
      "3  Datapoints in train dataset                      489\n",
      "4   Datapoints in test dataset                      123\n",
      "5                           R²                  -28.82%\n",
      "6                          MSE                   0.0013\n"
     ]
    }
   ],
   "source": [
    "# Define the characteristics and their values\n",
    "rf_characteristics = {\n",
    "    'Name of characteristics': [\n",
    "        'Model name',\n",
    "        'Model type',\n",
    "        'Train - test split*',\n",
    "        'Datapoints in train dataset',\n",
    "        'Datapoints in test dataset',\n",
    "        'R²',\n",
    "        'MSE'\n",
    "    ],\n",
    "    'Characteristics': [\n",
    "        'ML Regression model',\n",
    "        'Random Forest Regressor',\n",
    "        '20 %',\n",
    "        len(X_train),  # Number of datapoints in the training set\n",
    "        len(X_test),   # Number of datapoints in the test set\n",
    "        f'{rf_r2:.2%}',  # R² value as a percentage\n",
    "        f'{rf_mse:.4f}'   # MSE value formatted to 4 decimal places\n",
    "    ]\n",
    "}\n",
    "\n",
    "# Create a DataFrame\n",
    "rf_summary_df = pd.DataFrame(rf_characteristics)\n",
    "\n",
    "# Display the DataFrame\n",
    "print(rf_summary_df)"
   ]
  },
  {
   "cell_type": "code",
   "execution_count": null,
   "id": "aedea3c6",
   "metadata": {},
   "outputs": [],
   "source": []
  }
 ],
 "metadata": {
  "kernelspec": {
   "display_name": "Python 3 (ipykernel)",
   "language": "python",
   "name": "python3"
  },
  "language_info": {
   "codemirror_mode": {
    "name": "ipython",
    "version": 3
   },
   "file_extension": ".py",
   "mimetype": "text/x-python",
   "name": "python",
   "nbconvert_exporter": "python",
   "pygments_lexer": "ipython3",
   "version": "3.9.13"
  }
 },
 "nbformat": 4,
 "nbformat_minor": 5
}
